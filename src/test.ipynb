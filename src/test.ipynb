{
 "cells": [
  {
   "cell_type": "code",
   "execution_count": 2,
   "metadata": {},
   "outputs": [],
   "source": [
    "import pandas as pd"
   ]
  },
  {
   "cell_type": "code",
   "execution_count": 18,
   "metadata": {},
   "outputs": [],
   "source": [
    "data = pd.read_csv('../resources/produk_raw.csv')\n",
    "pd.set_option('display.expand_frame_repr', False)\n",
    "def clean_text(text):\n",
    "    for substring in substrings_to_remove:\n",
    "        text = text.replace(substring, \"\")\n",
    "    return text.strip()\n",
    "\n",
    "substrings_to_remove = [\n",
    "    \"\\n\",\n",
    "    \".\",\n",
    "    \"PENGGUNAAN OBAT INI HARUS SESUAI DENGAN PETUNJUK DOKTER\",\n",
    "    \"ATURAN PAKAI HARUS SESUAI DENGAN PETUNJUK DOKTER\"\n",
    "]\n",
    "for substring in substrings_to_remove:\n",
    "    cleaned_text = data['Dosis'].replace(substring, \"\")\n",
    "\n",
    "# Update the 'Dosis' value in the DataFrame\n",
    "data['Dosis'] = data['Dosis'].apply(clean_text)\n",
    "# data"
   ]
  },
  {
   "cell_type": "code",
   "execution_count": 27,
   "metadata": {},
   "outputs": [
    {
     "data": {
      "text/plain": [
       "'Dewasa dan anak diatas 14 tahun : 1 Kapsul 2-3 kali sehari Untuk Anak 6-14 tahun: 1 Kapsul 2 kali sehari Pada kasus produksi dahak yang berlebihan : Anak diatas 6 tahun : 1 Capsule 3 x perhari'"
      ]
     },
     "execution_count": 27,
     "metadata": {},
     "output_type": "execute_result"
    }
   ],
   "source": [
    "data['Dosis'][4]"
   ]
  },
  {
   "cell_type": "code",
   "execution_count": null,
   "metadata": {},
   "outputs": [],
   "source": []
  }
 ],
 "metadata": {
  "kernelspec": {
   "display_name": "dataengineer",
   "language": "python",
   "name": "python3"
  },
  "language_info": {
   "codemirror_mode": {
    "name": "ipython",
    "version": 3
   },
   "file_extension": ".py",
   "mimetype": "text/x-python",
   "name": "python",
   "nbconvert_exporter": "python",
   "pygments_lexer": "ipython3",
   "version": "3.9.6"
  }
 },
 "nbformat": 4,
 "nbformat_minor": 2
}
